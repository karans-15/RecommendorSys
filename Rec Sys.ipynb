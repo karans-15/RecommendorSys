{
 "cells": [
  {
   "cell_type": "code",
   "execution_count": 9,
   "metadata": {},
   "outputs": [],
   "source": [
    "#Import required libraries\n",
    "\n",
    "import pandas as pd\n",
    "import numpy as np "
   ]
  },
  {
   "cell_type": "code",
   "execution_count": 10,
   "metadata": {},
   "outputs": [
    {
     "name": "stdout",
     "output_type": "stream",
     "text": [
      "(48, 5)\n"
     ]
    },
    {
     "data": {
      "text/html": [
       "<div>\n",
       "<style scoped>\n",
       "    .dataframe tbody tr th:only-of-type {\n",
       "        vertical-align: middle;\n",
       "    }\n",
       "\n",
       "    .dataframe tbody tr th {\n",
       "        vertical-align: top;\n",
       "    }\n",
       "\n",
       "    .dataframe thead th {\n",
       "        text-align: right;\n",
       "    }\n",
       "</style>\n",
       "<table border=\"1\" class=\"dataframe\">\n",
       "  <thead>\n",
       "    <tr style=\"text-align: right;\">\n",
       "      <th></th>\n",
       "      <th>count</th>\n",
       "      <th>mean</th>\n",
       "      <th>std</th>\n",
       "      <th>min</th>\n",
       "      <th>25%</th>\n",
       "      <th>50%</th>\n",
       "      <th>75%</th>\n",
       "      <th>max</th>\n",
       "    </tr>\n",
       "  </thead>\n",
       "  <tbody>\n",
       "    <tr>\n",
       "      <th>Which of these would describe the place</th>\n",
       "      <td>48.0</td>\n",
       "      <td>2.291667</td>\n",
       "      <td>0.617419</td>\n",
       "      <td>1.0</td>\n",
       "      <td>2.0</td>\n",
       "      <td>2.0</td>\n",
       "      <td>3.00</td>\n",
       "      <td>3.0</td>\n",
       "    </tr>\n",
       "    <tr>\n",
       "      <th>Distance from the campus</th>\n",
       "      <td>48.0</td>\n",
       "      <td>20.645833</td>\n",
       "      <td>15.943370</td>\n",
       "      <td>3.0</td>\n",
       "      <td>6.0</td>\n",
       "      <td>15.0</td>\n",
       "      <td>36.75</td>\n",
       "      <td>48.0</td>\n",
       "    </tr>\n",
       "    <tr>\n",
       "      <th>Around much did it cost you (in INR/rupees)</th>\n",
       "      <td>48.0</td>\n",
       "      <td>997.291667</td>\n",
       "      <td>916.022251</td>\n",
       "      <td>20.0</td>\n",
       "      <td>487.5</td>\n",
       "      <td>700.0</td>\n",
       "      <td>1225.00</td>\n",
       "      <td>4200.0</td>\n",
       "    </tr>\n",
       "    <tr>\n",
       "      <th>How many stars will you give the place?</th>\n",
       "      <td>48.0</td>\n",
       "      <td>3.750000</td>\n",
       "      <td>1.000000</td>\n",
       "      <td>1.0</td>\n",
       "      <td>3.0</td>\n",
       "      <td>4.0</td>\n",
       "      <td>4.00</td>\n",
       "      <td>5.0</td>\n",
       "    </tr>\n",
       "  </tbody>\n",
       "</table>\n",
       "</div>"
      ],
      "text/plain": [
       "                                             count        mean         std  \\\n",
       "Which of these would describe the place       48.0    2.291667    0.617419   \n",
       "Distance from the campus                      48.0   20.645833   15.943370   \n",
       "Around much did it cost you (in INR/rupees)   48.0  997.291667  916.022251   \n",
       "How many stars will you give the place?       48.0    3.750000    1.000000   \n",
       "\n",
       "                                              min    25%    50%      75%  \\\n",
       "Which of these would describe the place       1.0    2.0    2.0     3.00   \n",
       "Distance from the campus                      3.0    6.0   15.0    36.75   \n",
       "Around much did it cost you (in INR/rupees)  20.0  487.5  700.0  1225.00   \n",
       "How many stars will you give the place?       1.0    3.0    4.0     4.00   \n",
       "\n",
       "                                                max  \n",
       "Which of these would describe the place         3.0  \n",
       "Distance from the campus                       48.0  \n",
       "Around much did it cost you (in INR/rupees)  4200.0  \n",
       "How many stars will you give the place?         5.0  "
      ]
     },
     "execution_count": 10,
     "metadata": {},
     "output_type": "execute_result"
    }
   ],
   "source": [
    "#Importing the dataset and verifying it's details\n",
    "data= pd.read_excel(\"RecSys/dataset.xlsx\")\n",
    "print(data.shape)\n",
    "data.describe().transpose()"
   ]
  },
  {
   "cell_type": "code",
   "execution_count": 11,
   "metadata": {},
   "outputs": [
    {
     "name": "stdout",
     "output_type": "stream",
     "text": [
      "(48, 4)\n"
     ]
    },
    {
     "data": {
      "text/html": [
       "<div>\n",
       "<style scoped>\n",
       "    .dataframe tbody tr th:only-of-type {\n",
       "        vertical-align: middle;\n",
       "    }\n",
       "\n",
       "    .dataframe tbody tr th {\n",
       "        vertical-align: top;\n",
       "    }\n",
       "\n",
       "    .dataframe thead th {\n",
       "        text-align: right;\n",
       "    }\n",
       "</style>\n",
       "<table border=\"1\" class=\"dataframe\">\n",
       "  <thead>\n",
       "    <tr style=\"text-align: right;\">\n",
       "      <th></th>\n",
       "      <th>count</th>\n",
       "      <th>mean</th>\n",
       "      <th>std</th>\n",
       "      <th>min</th>\n",
       "      <th>25%</th>\n",
       "      <th>50%</th>\n",
       "      <th>75%</th>\n",
       "      <th>max</th>\n",
       "    </tr>\n",
       "  </thead>\n",
       "  <tbody>\n",
       "    <tr>\n",
       "      <th>Which of these would describe the place</th>\n",
       "      <td>48.0</td>\n",
       "      <td>0.763889</td>\n",
       "      <td>0.205806</td>\n",
       "      <td>0.333333</td>\n",
       "      <td>0.666667</td>\n",
       "      <td>0.666667</td>\n",
       "      <td>1.000000</td>\n",
       "      <td>1.0</td>\n",
       "    </tr>\n",
       "    <tr>\n",
       "      <th>Distance from the campus</th>\n",
       "      <td>48.0</td>\n",
       "      <td>0.430122</td>\n",
       "      <td>0.332154</td>\n",
       "      <td>0.062500</td>\n",
       "      <td>0.125000</td>\n",
       "      <td>0.312500</td>\n",
       "      <td>0.765625</td>\n",
       "      <td>1.0</td>\n",
       "    </tr>\n",
       "    <tr>\n",
       "      <th>Around much did it cost you (in INR/rupees)</th>\n",
       "      <td>48.0</td>\n",
       "      <td>0.237450</td>\n",
       "      <td>0.218101</td>\n",
       "      <td>0.004762</td>\n",
       "      <td>0.116071</td>\n",
       "      <td>0.166667</td>\n",
       "      <td>0.291667</td>\n",
       "      <td>1.0</td>\n",
       "    </tr>\n",
       "    <tr>\n",
       "      <th>How many stars will you give the place?</th>\n",
       "      <td>48.0</td>\n",
       "      <td>0.750000</td>\n",
       "      <td>0.200000</td>\n",
       "      <td>0.200000</td>\n",
       "      <td>0.600000</td>\n",
       "      <td>0.800000</td>\n",
       "      <td>0.800000</td>\n",
       "      <td>1.0</td>\n",
       "    </tr>\n",
       "  </tbody>\n",
       "</table>\n",
       "</div>"
      ],
      "text/plain": [
       "                                             count      mean       std  \\\n",
       "Which of these would describe the place       48.0  0.763889  0.205806   \n",
       "Distance from the campus                      48.0  0.430122  0.332154   \n",
       "Around much did it cost you (in INR/rupees)   48.0  0.237450  0.218101   \n",
       "How many stars will you give the place?       48.0  0.750000  0.200000   \n",
       "\n",
       "                                                  min       25%       50%  \\\n",
       "Which of these would describe the place      0.333333  0.666667  0.666667   \n",
       "Distance from the campus                     0.062500  0.125000  0.312500   \n",
       "Around much did it cost you (in INR/rupees)  0.004762  0.116071  0.166667   \n",
       "How many stars will you give the place?      0.200000  0.600000  0.800000   \n",
       "\n",
       "                                                  75%  max  \n",
       "Which of these would describe the place      1.000000  1.0  \n",
       "Distance from the campus                     0.765625  1.0  \n",
       "Around much did it cost you (in INR/rupees)  0.291667  1.0  \n",
       "How many stars will you give the place?      0.800000  1.0  "
      ]
     },
     "execution_count": 11,
     "metadata": {},
     "output_type": "execute_result"
    }
   ],
   "source": [
    "#Removing name of place column as it was added for our convenience only\n",
    "extra_column1 = ['Name of place']\n",
    "predictors = list(set(list(data.columns))-set(extra_column1))\n",
    "print(data[predictors].shape)\n",
    "data[predictors] = data[predictors]/data[predictors].max()\n",
    "data.describe().transpose()\n",
    "\n",
    "#data = data/data.max()\n",
    "#data.describe().transpose()"
   ]
  },
  {
   "cell_type": "code",
   "execution_count": 12,
   "metadata": {},
   "outputs": [],
   "source": [
    "data_X = data[predictors].to_numpy()"
   ]
  },
  {
   "cell_type": "code",
   "execution_count": 13,
   "metadata": {},
   "outputs": [],
   "source": [
    "#Cost function\n",
    "J = np.zeros(48)\n",
    "\n",
    "#Rank\n",
    "Y = np.zeros"
   ]
  },
  {
   "cell_type": "code",
   "execution_count": 21,
   "metadata": {},
   "outputs": [],
   "source": [
    "mean = np.mean(data_X, axis=0)\n",
    "mean = np.sum(mean)\n",
    "#print(mean)\n",
    "J = np.sum(data_X, axis=1) - mean\n",
    "#print(J)\n",
    "J = abs(J)\n",
    "#print(J)"
   ]
  },
  {
   "cell_type": "code",
   "execution_count": 23,
   "metadata": {},
   "outputs": [
    {
     "name": "stdout",
     "output_type": "stream",
     "text": [
      "29 12 41 42 6\n"
     ]
    }
   ],
   "source": [
    "tempJ = J\n",
    "rank1 = np.argmin(tempJ)-1\n",
    "tempJ[np.argmin(tempJ)] = 99\n",
    "rank2 = np.argmin(tempJ) - 1\n",
    "tempJ[np.argmin(tempJ)] = 99\n",
    "rank3 = np.argmin(tempJ) - 1\n",
    "tempJ[np.argmin(tempJ)] = 99\n",
    "rank4 = np.argmin(tempJ) - 1\n",
    "tempJ[np.argmin(tempJ)] = 99\n",
    "rank5 = np.argmin(tempJ) - 1\n",
    "print(rank1,rank2,rank3,rank4,rank5)"
   ]
  },
  {
   "cell_type": "code",
   "execution_count": 24,
   "metadata": {},
   "outputs": [
    {
     "name": "stdout",
     "output_type": "stream",
     "text": [
      "Recommendation 1: Goa Karting\n",
      "Recommendation 2: Vagator\n",
      "Recommendation 3: Calungute\n",
      "Recommendation 4: St. Jacinto island\n",
      "Recommendation 5: Bogmalo\n"
     ]
    }
   ],
   "source": [
    "print(\"Recommendation 1: \" + (data['Name of place'][rank1]))\n",
    "print(\"Recommendation 2: \" + (data['Name of place'][rank2]))\n",
    "print(\"Recommendation 3: \" + (data['Name of place'][rank3]))\n",
    "print(\"Recommendation 4: \" + (data['Name of place'][rank4]))\n",
    "print(\"Recommendation 5: \" + (data['Name of place'][rank5]))\n"
   ]
  },
  {
   "cell_type": "code",
   "execution_count": null,
   "metadata": {},
   "outputs": [],
   "source": []
  }
 ],
 "metadata": {
  "kernelspec": {
   "display_name": "Python 3",
   "language": "python",
   "name": "python3"
  },
  "language_info": {
   "codemirror_mode": {
    "name": "ipython",
    "version": 3
   },
   "file_extension": ".py",
   "mimetype": "text/x-python",
   "name": "python",
   "nbconvert_exporter": "python",
   "pygments_lexer": "ipython3",
   "version": "3.7.6"
  }
 },
 "nbformat": 4,
 "nbformat_minor": 4
}
